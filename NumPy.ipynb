{
 "cells": [
  {
   "cell_type": "code",
   "execution_count": 1,
   "id": "9e5f95ec",
   "metadata": {},
   "outputs": [],
   "source": [
    "import numpy as np"
   ]
  },
  {
   "cell_type": "markdown",
   "id": "7f1d7b0f",
   "metadata": {},
   "source": [
    "### Creating 1D array"
   ]
  },
  {
   "cell_type": "code",
   "execution_count": 2,
   "id": "c36fa472",
   "metadata": {},
   "outputs": [
    {
     "name": "stdout",
     "output_type": "stream",
     "text": [
      "[1 3 5 7 9]\n"
     ]
    }
   ],
   "source": [
    "a= np.array([1,3,5,7,9])\n",
    "print(a)"
   ]
  },
  {
   "cell_type": "markdown",
   "id": "fd1a61ae",
   "metadata": {},
   "source": [
    "### Creating 2D array"
   ]
  },
  {
   "cell_type": "code",
   "execution_count": 3,
   "id": "0a3d7782",
   "metadata": {},
   "outputs": [
    {
     "name": "stdout",
     "output_type": "stream",
     "text": [
      "[[1 2 3]\n",
      " [4 5 6]]\n"
     ]
    }
   ],
   "source": [
    "b= np.array([[1,2,3],\n",
    "             [4,5,6]])\n",
    "print(b)"
   ]
  },
  {
   "cell_type": "markdown",
   "id": "e9f51809",
   "metadata": {},
   "source": [
    "- ndarray.ndim : the dimension number of the array. It's called rank in Python.\n",
    "- ndarray.shape : the dimension of the array. It's a series of numbers whose length is determined by the dimension （ndim） of the array. For example, the shape of a one-dimensional array with length n is n. And the shape of an array with n rows and m columns is n,m.\n",
    "- ndarray.size : the number of all elements in the array.\n",
    "- ndarray.dtype : the type of the element in the array, such as numpy.int32, numpy.int16, or numpy.float64.\n",
    "- ndarray.itemsize : the size of each element in the array, in bytes."
   ]
  },
  {
   "cell_type": "code",
   "execution_count": 4,
   "id": "0cb10522",
   "metadata": {},
   "outputs": [
    {
     "name": "stdout",
     "output_type": "stream",
     "text": [
      "dimension:  2\n"
     ]
    }
   ],
   "source": [
    "b= np.array([[1,2,3],\n",
    "             [4,5,6]])\n",
    "c=b.ndim\n",
    "print(\"dimension: \",c)"
   ]
  },
  {
   "cell_type": "code",
   "execution_count": 10,
   "id": "3cbde1b9",
   "metadata": {},
   "outputs": [
    {
     "name": "stdout",
     "output_type": "stream",
     "text": [
      "4 bytes\n"
     ]
    }
   ],
   "source": [
    "#Printing itemsize of each element\n",
    "c= np.array([21,10,6,23])\n",
    "print(c.itemsize ,\"bytes\")"
   ]
  },
  {
   "cell_type": "code",
   "execution_count": 14,
   "id": "a87fe921",
   "metadata": {},
   "outputs": [
    {
     "name": "stdout",
     "output_type": "stream",
     "text": [
      "int32\n"
     ]
    }
   ],
   "source": [
    "#Data type of each array item\n",
    "c=np.array([[12,2,6,7]])\n",
    "print(c.dtype)"
   ]
  },
  {
   "cell_type": "code",
   "execution_count": 16,
   "id": "9fe1a21a",
   "metadata": {},
   "outputs": [
    {
     "name": "stdout",
     "output_type": "stream",
     "text": [
      "8\n",
      "(1, 8)\n"
     ]
    }
   ],
   "source": [
    "c=np.array([[12,2,6,7,56,78,89,45]])\n",
    "print(c.size)\n",
    "print(c.shape)"
   ]
  },
  {
   "cell_type": "code",
   "execution_count": 17,
   "id": "b21060f4",
   "metadata": {},
   "outputs": [
    {
     "name": "stdout",
     "output_type": "stream",
     "text": [
      "[[0 0]\n",
      " [0 0]\n",
      " [0 0]]\n"
     ]
    }
   ],
   "source": [
    "arr = np.zeros((3,2), dtype = int)  \n",
    "print(arr)"
   ]
  },
  {
   "cell_type": "code",
   "execution_count": 18,
   "id": "e6af7074",
   "metadata": {},
   "outputs": [
    {
     "name": "stdout",
     "output_type": "stream",
     "text": [
      "[[1 1]\n",
      " [1 1]\n",
      " [1 1]]\n"
     ]
    }
   ],
   "source": [
    "arr = np.ones((3,2), dtype = int)  \n",
    "print(arr) "
   ]
  },
  {
   "cell_type": "code",
   "execution_count": 19,
   "id": "ef75d68d",
   "metadata": {},
   "outputs": [
    {
     "name": "stdout",
     "output_type": "stream",
     "text": [
      "<class 'numpy.ndarray'>\n",
      "[1 2 3 4 5 6 7]\n"
     ]
    }
   ],
   "source": [
    "l=[1,2,3,4,5,6,7]  \n",
    "a = np.asarray(l);  \n",
    "print(type(a))  \n",
    "print(a)"
   ]
  },
  {
   "cell_type": "code",
   "execution_count": 20,
   "id": "d304133e",
   "metadata": {},
   "outputs": [
    {
     "name": "stdout",
     "output_type": "stream",
     "text": [
      "<class 'numpy.ndarray'>\n",
      "[1 2 3 4 5 6 7]\n"
     ]
    }
   ],
   "source": [
    "l=(1,2,3,4,5,6,7)     \n",
    "a = np.asarray(l);  \n",
    "print(type(a))  \n",
    "print(a) "
   ]
  },
  {
   "cell_type": "code",
   "execution_count": 21,
   "id": "0cfe4702",
   "metadata": {},
   "outputs": [
    {
     "name": "stdout",
     "output_type": "stream",
     "text": [
      "<class 'numpy.ndarray'>\n",
      "[list([1, 2, 3, 4, 5, 6, 7]) list([8, 9])]\n"
     ]
    },
    {
     "name": "stderr",
     "output_type": "stream",
     "text": [
      "C:\\Users\\Vedant\\Anaconda3\\lib\\site-packages\\numpy\\core\\_asarray.py:102: VisibleDeprecationWarning: Creating an ndarray from ragged nested sequences (which is a list-or-tuple of lists-or-tuples-or ndarrays with different lengths or shapes) is deprecated. If you meant to do this, you must specify 'dtype=object' when creating the ndarray.\n",
      "  return array(a, dtype, copy=False, order=order)\n"
     ]
    }
   ],
   "source": [
    "l=[[1,2,3,4,5,6,7],[8,9]]  \n",
    "a = np.asarray(l);  \n",
    "print(type(a))  \n",
    "print(a)"
   ]
  },
  {
   "cell_type": "markdown",
   "id": "68a7f67e",
   "metadata": {},
   "source": [
    "#### Numpy.frombuffer\n",
    "\n",
    "#### This function is used to create an array by using the specified buffer."
   ]
  },
  {
   "cell_type": "code",
   "execution_count": 22,
   "id": "4151c607",
   "metadata": {},
   "outputs": [
    {
     "name": "stdout",
     "output_type": "stream",
     "text": [
      "<class 'bytes'>\n",
      "[b'N' b'u' b'm' b'p' b'y' b' ' b'T' b'u' b't' b'o' b'r' b'i' b'a' b'l'\n",
      " b' ']\n",
      "<class 'numpy.ndarray'>\n"
     ]
    }
   ],
   "source": [
    "l = b'Numpy Tutorial '  \n",
    "print(type(l))  \n",
    "a = np.frombuffer(l, dtype = \"S1\")  \n",
    "print(a)  \n",
    "print(type(a))"
   ]
  },
  {
   "cell_type": "markdown",
   "id": "d1006e23",
   "metadata": {},
   "source": [
    "#### Numpy.fromiter\n",
    "\n",
    "#### This routine is used to create a ndarray by using an iterable object. It returns a one-dimensional ndarray object"
   ]
  },
  {
   "cell_type": "code",
   "execution_count": 23,
   "id": "0f2d0daf",
   "metadata": {},
   "outputs": [
    {
     "name": "stdout",
     "output_type": "stream",
     "text": [
      "[0. 2. 4. 6.]\n",
      "<class 'numpy.ndarray'>\n"
     ]
    }
   ],
   "source": [
    "list = [0,2,4,6]  \n",
    "a = iter(list)  \n",
    "x = np.fromiter(a, dtype = float)  \n",
    "print(x)  \n",
    "print(type(x))"
   ]
  },
  {
   "cell_type": "code",
   "execution_count": 24,
   "id": "88d39c5b",
   "metadata": {},
   "outputs": [
    {
     "name": "stdout",
     "output_type": "stream",
     "text": [
      "[0 1 2 3 4]\n"
     ]
    }
   ],
   "source": [
    "# arrays within a range\n",
    "\n",
    "x = np.arange(5) \n",
    "print(x)"
   ]
  },
  {
   "cell_type": "code",
   "execution_count": 25,
   "id": "b7d478cf",
   "metadata": {},
   "outputs": [
    {
     "name": "stdout",
     "output_type": "stream",
     "text": [
      "[0. 2. 4. 6. 8.]\n"
     ]
    }
   ],
   "source": [
    "arr = np.arange(0,10,2,float)  \n",
    "print(arr)"
   ]
  },
  {
   "cell_type": "markdown",
   "id": "9adb054f",
   "metadata": {},
   "source": [
    "#### NumPy.linspace\n",
    "\n",
    "It is similar to the arrange function. However, it doesn't allow us to specify the step size in the syntax. Instead of that, it only returns evenly separated values over a specified period. The system implicitly calculates the step size."
   ]
  },
  {
   "cell_type": "code",
   "execution_count": 31,
   "id": "f3a7571b",
   "metadata": {},
   "outputs": [
    {
     "name": "stdout",
     "output_type": "stream",
     "text": [
      "[10.  12.5 15.  17.5 20. ]\n"
     ]
    }
   ],
   "source": [
    "arr = np.linspace(10,20 ,5)\n",
    "print(arr)"
   ]
  },
  {
   "cell_type": "code",
   "execution_count": 32,
   "id": "fb032fdd",
   "metadata": {},
   "outputs": [
    {
     "name": "stdout",
     "output_type": "stream",
     "text": [
      "[10. 12. 14. 16. 18.]\n"
     ]
    }
   ],
   "source": [
    "# endpoint set to false \n",
    "arr = np.linspace(10,20,5 ,endpoint=False)\n",
    "print(arr)"
   ]
  },
  {
   "cell_type": "code",
   "execution_count": 36,
   "id": "5d6bf5a4",
   "metadata": {},
   "outputs": [
    {
     "name": "stdout",
     "output_type": "stream",
     "text": [
      "(array([ 1.  ,  3.25,  5.5 ,  7.75, 10.  ]), 2.25)\n"
     ]
    }
   ],
   "source": [
    "# Find retstep\n",
    "x = np.linspace(1,10,5, retstep = True) \n",
    "print (x) \n",
    "#2.25 is the retstep"
   ]
  },
  {
   "cell_type": "markdown",
   "id": "ead9b5ac",
   "metadata": {},
   "source": [
    "#### Numpy.logspace\n",
    "\n",
    "It creates an array by using the numbers that are evenly separated on a log scale."
   ]
  },
  {
   "cell_type": "code",
   "execution_count": 40,
   "id": "24d72c30",
   "metadata": {},
   "outputs": [
    {
     "name": "stdout",
     "output_type": "stream",
     "text": [
      "[1.00000000e+10 1.66810054e+12 2.78255940e+14 4.64158883e+16\n",
      " 7.74263683e+18 1.29154967e+21 2.15443469e+23 3.59381366e+25\n",
      " 5.99484250e+27 1.00000000e+30]\n"
     ]
    }
   ],
   "source": [
    "arr = np.logspace(10,30, num=10, endpoint=True)\n",
    "print(arr)"
   ]
  },
  {
   "cell_type": "code",
   "execution_count": 41,
   "id": "6fcd86c4",
   "metadata": {},
   "outputs": [
    {
     "name": "stdout",
     "output_type": "stream",
     "text": [
      "[1.02400000e+03 5.79261875e+03 3.27680000e+04 1.85363800e+05\n",
      " 1.04857600e+06]\n"
     ]
    }
   ],
   "source": [
    "arr= np.logspace(10, 20, num = 5,base = 2, endpoint = True)\n",
    "print(arr)"
   ]
  },
  {
   "cell_type": "markdown",
   "id": "121950eb",
   "metadata": {},
   "source": [
    "## Indexing and Slicing"
   ]
  },
  {
   "cell_type": "code",
   "execution_count": 44,
   "id": "02e4c722",
   "metadata": {},
   "outputs": [
    {
     "name": "stdout",
     "output_type": "stream",
     "text": [
      "[2 4 6 8]\n"
     ]
    }
   ],
   "source": [
    "a = np.arange(10) \n",
    "s = slice(2,10,2) \n",
    "print (a[s])"
   ]
  },
  {
   "cell_type": "code",
   "execution_count": 45,
   "id": "67fcd395",
   "metadata": {},
   "outputs": [
    {
     "name": "stdout",
     "output_type": "stream",
     "text": [
      "[2 4 6]\n"
     ]
    }
   ],
   "source": [
    "a = np.arange(10) \n",
    "b = a[2:7:2] \n",
    "print(b)"
   ]
  },
  {
   "cell_type": "code",
   "execution_count": 46,
   "id": "04ea3aea",
   "metadata": {},
   "outputs": [
    {
     "name": "stdout",
     "output_type": "stream",
     "text": [
      "5\n"
     ]
    }
   ],
   "source": [
    "# slice single item \n",
    "\n",
    "a = np.arange(10) \n",
    "b = a[5] \n",
    "print(b)"
   ]
  },
  {
   "cell_type": "code",
   "execution_count": 48,
   "id": "e6d1497a",
   "metadata": {},
   "outputs": [
    {
     "name": "stdout",
     "output_type": "stream",
     "text": [
      "[2 3 4 5 6 7 8 9]\n"
     ]
    }
   ],
   "source": [
    "a= np.arange(10)\n",
    "print(a[2:])"
   ]
  },
  {
   "cell_type": "code",
   "execution_count": 49,
   "id": "53374200",
   "metadata": {},
   "outputs": [
    {
     "name": "stdout",
     "output_type": "stream",
     "text": [
      "[2 3 4]\n"
     ]
    }
   ],
   "source": [
    "a = np.arange(10) \n",
    "print(a[2:5])"
   ]
  },
  {
   "cell_type": "code",
   "execution_count": 50,
   "id": "e6481d13",
   "metadata": {},
   "outputs": [
    {
     "name": "stdout",
     "output_type": "stream",
     "text": [
      "[[1 2 3]\n",
      " [3 4 5]\n",
      " [4 5 6]]\n",
      "Now we will slice the array from the index a[1:]\n",
      "[[3 4 5]\n",
      " [4 5 6]]\n"
     ]
    }
   ],
   "source": [
    "a = np.array([[1,2,3],[3,4,5],[4,5,6]]) \n",
    "print(a)  \n",
    "\n",
    "# slice items starting from index\n",
    "print('Now we will slice the array from the index a[1:]') \n",
    "print(a[1:])"
   ]
  },
  {
   "cell_type": "code",
   "execution_count": 54,
   "id": "8c93d4c3",
   "metadata": {},
   "outputs": [
    {
     "name": "stdout",
     "output_type": "stream",
     "text": [
      "Our array is:\n",
      "[[1 2 3]\n",
      " [3 4 5]\n",
      " [4 5 6]]\n",
      "\n",
      "\n",
      "The items in the second column are:\n",
      "[2 4 5]\n",
      "\n",
      "\n",
      "The items in the second row are:\n",
      "[3 4 5]\n",
      "\n",
      "\n",
      "The items column 1 onwards are:\n",
      "[[2 3]\n",
      " [4 5]\n",
      " [5 6]]\n"
     ]
    }
   ],
   "source": [
    "a = np.array([[1,2,3],[3,4,5],[4,5,6]]) \n",
    "\n",
    "print('Our array is:') \n",
    "print(a) \n",
    "print('\\n')  \n",
    "\n",
    "# this returns array of items in the second column \n",
    "print('The items in the second column are:'  )\n",
    "print(a[...,1] )\n",
    "print('\\n')  \n",
    "\n",
    "# Now we will slice all items from the second row \n",
    "print('The items in the second row are:' )\n",
    "print(a[1,...]) \n",
    "print( '\\n'  )\n",
    "\n",
    "# Now we will slice all items from column 1 onwards \n",
    "print('The items column 1 onwards are:') \n",
    "print(a[...,1:])"
   ]
  },
  {
   "cell_type": "markdown",
   "id": "7c2bce7b",
   "metadata": {},
   "source": [
    "## Advanced Indexing"
   ]
  },
  {
   "cell_type": "code",
   "execution_count": 56,
   "id": "88f275d9",
   "metadata": {},
   "outputs": [
    {
     "name": "stdout",
     "output_type": "stream",
     "text": [
      "[[1 2]\n",
      " [3 4]\n",
      " [5 6]]\n",
      "[1 4 5]\n"
     ]
    }
   ],
   "source": [
    "x = np.array([[1, 2], [3, 4], [5, 6]]) \n",
    "y = x[[0,1,2], [0,1,0]] \n",
    "print(x)\n",
    "print(y)"
   ]
  },
  {
   "cell_type": "markdown",
   "id": "944b7400",
   "metadata": {},
   "source": [
    "The selection includes elements at (0,0), (1,1) and (2,0) from the first array."
   ]
  },
  {
   "cell_type": "code",
   "execution_count": 57,
   "id": "7f779095",
   "metadata": {},
   "outputs": [
    {
     "name": "stdout",
     "output_type": "stream",
     "text": [
      "Original error  array is\n",
      "[[ 0  1  2]\n",
      " [ 3  4  5]\n",
      " [ 6  7  8]\n",
      " [ 9 10 11]]\n",
      "\n",
      "\n",
      "The corner elements of this array are:\n",
      "[[ 0  2]\n",
      " [ 9 11]]\n"
     ]
    }
   ],
   "source": [
    "x = np.array([[ 0,  1,  2],[ 3,  4,  5],[ 6,  7,  8],[ 9, 10, 11]]) \n",
    "   \n",
    "print('Original error  array is') \n",
    "print(x) \n",
    "print('\\n') \n",
    "\n",
    "rows = np.array([[0,0],[3,3]])\n",
    "cols = np.array([[0,2],[0,2]]) \n",
    "y = x[rows,cols] \n",
    "   \n",
    "print('The corner elements of this array are:') \n",
    "print (y)\n",
    "\n",
    "# Here, (0,0 , 0,2 , 3,0 , 3,2 are selected)"
   ]
  },
  {
   "cell_type": "code",
   "execution_count": 62,
   "id": "342666e8",
   "metadata": {},
   "outputs": [
    {
     "name": "stdout",
     "output_type": "stream",
     "text": [
      "Original error  array is\n",
      "[[ 0  1  2]\n",
      " [ 3  4  5]\n",
      " [ 6  7  8]\n",
      " [ 9 10 11]]\n",
      "\n",
      "\n",
      "The diamond elements of this array are:\n",
      "[[1 3]\n",
      " [5 7]]\n"
     ]
    }
   ],
   "source": [
    "x = np.array([[ 0,  1,  2],[ 3,  4,  5],[ 6,  7,  8],[ 9, 10, 11]]) \n",
    "   \n",
    "print('Original error  array is') \n",
    "print(x) \n",
    "print('\\n') \n",
    "rows = np.array([[0,1],[1,2]])\n",
    "cols = np.array([[1,0],[2,1]]) \n",
    "y = x[rows,cols] \n",
    "   \n",
    "print('The diamond elements of this array are:') \n",
    "print (y)"
   ]
  },
  {
   "cell_type": "code",
   "execution_count": 58,
   "id": "4e6981ac",
   "metadata": {},
   "outputs": [
    {
     "name": "stdout",
     "output_type": "stream",
     "text": [
      "Original array\n",
      "[[ 0  1  2]\n",
      " [ 3  4  5]\n",
      " [ 6  7  8]\n",
      " [ 9 10 11]]\n",
      "\n",
      "\n",
      "After slicing, our array becomes:\n",
      "[[ 4  5]\n",
      " [ 7  8]\n",
      " [10 11]]\n",
      "\n",
      "\n",
      "Slicing using advanced index for column:\n",
      "[[ 4  5]\n",
      " [ 7  8]\n",
      " [10 11]]\n"
     ]
    }
   ],
   "source": [
    "x = np.array([[ 0,  1,  2],[ 3,  4,  5],[ 6,  7,  8],[ 9, 10, 11]]) \n",
    "\n",
    "print ('Original array') \n",
    "print (x) \n",
    "print ('\\n')  \n",
    "\n",
    "# slicing \n",
    "z = x[1:4,1:3] \n",
    "\n",
    "print ('After slicing, our array becomes:' )\n",
    "print (z)\n",
    "print ('\\n')  \n",
    "\n",
    "# using advanced index for column \n",
    "\n",
    "y = x[1:4,[1,2]] \n",
    "\n",
    "print ('Slicing using advanced index for column:') \n",
    "print(y)"
   ]
  },
  {
   "cell_type": "markdown",
   "id": "25f8b20f",
   "metadata": {},
   "source": [
    "## Boolean Array Indexing"
   ]
  },
  {
   "cell_type": "code",
   "execution_count": 59,
   "id": "c5118d4e",
   "metadata": {},
   "outputs": [
    {
     "name": "stdout",
     "output_type": "stream",
     "text": [
      "Orginal array is\n",
      "[[ 0  1  2]\n",
      " [ 3  4  5]\n",
      " [ 6  7  8]\n",
      " [ 9 10 11]]\n",
      "\n",
      "\n",
      "The items greater than 5 are:\n",
      "[ 6  7  8  9 10 11]\n"
     ]
    }
   ],
   "source": [
    "x = np.array([[ 0,  1,  2],[ 3,  4,  5],[ 6,  7,  8],[ 9, 10, 11]]) \n",
    "\n",
    "print('Orginal array is') \n",
    "print(x)\n",
    "print('\\n')  \n",
    "\n",
    "# Now we will print the items greater than 5 \n",
    "print('The items greater than 5 are:') \n",
    "print(x[x > 5])"
   ]
  },
  {
   "cell_type": "code",
   "execution_count": 63,
   "id": "62c03337",
   "metadata": {},
   "outputs": [
    {
     "name": "stdout",
     "output_type": "stream",
     "text": [
      "[2. +6.j 3.5+5.j]\n"
     ]
    }
   ],
   "source": [
    "\n",
    "a = np.array([1, 2+6j, 5, 3.5+5j]) \n",
    "print(a[np.iscomplex(a)])"
   ]
  },
  {
   "cell_type": "markdown",
   "id": "0baecace",
   "metadata": {},
   "source": [
    "## Numpy Broadcasting"
   ]
  },
  {
   "cell_type": "code",
   "execution_count": 64,
   "id": "f899b6d6",
   "metadata": {},
   "outputs": [
    {
     "name": "stdout",
     "output_type": "stream",
     "text": [
      "[ 2  8 18 32 50 72 56]\n"
     ]
    }
   ],
   "source": [
    "a = np.array([1,2,3,4,5,6,7])  \n",
    "b = np.array([2,4,6,8,10,12,8])  \n",
    "c= np.multiply(a,b)  \n",
    "print(c)  "
   ]
  },
  {
   "cell_type": "code",
   "execution_count": 65,
   "id": "56ba1e70",
   "metadata": {},
   "outputs": [
    {
     "name": "stdout",
     "output_type": "stream",
     "text": [
      "\n",
      "printing array a..\n",
      "[[ 1  2  3  4]\n",
      " [ 2  4  5  6]\n",
      " [10 20 39  3]]\n",
      "\n",
      "printing array b..\n",
      "[2 4 6 8]\n",
      "\n",
      "Adding arrays a and b ..\n",
      "[[ 3  6  9 12]\n",
      " [ 4  8 11 14]\n",
      " [12 24 45 11]]\n"
     ]
    }
   ],
   "source": [
    "a = np.array([[1,2,3,4],[2,4,5,6],[10,20,39,3]])  \n",
    "b = np.array([2,4,6,8])  \n",
    "\n",
    "print(\"\\nprinting array a..\")  \n",
    "print(a)  \n",
    "\n",
    "print(\"\\nprinting array b..\")  \n",
    "\n",
    "print(b)  \n",
    "\n",
    "print(\"\\nAdding arrays a and b ..\")  \n",
    "c = a + b\n",
    "print(c)  "
   ]
  },
  {
   "cell_type": "markdown",
   "id": "99afe532",
   "metadata": {},
   "source": [
    "## Array Iteration"
   ]
  },
  {
   "cell_type": "markdown",
   "id": "2014f3be",
   "metadata": {},
   "source": [
    "##### Order of Iteration\n",
    "\n",
    "There are two ways of storing values into the numpy arrays:\n",
    "\n",
    "- -F-style order\n",
    "- -C-style order"
   ]
  },
  {
   "cell_type": "code",
   "execution_count": 66,
   "id": "29b85856",
   "metadata": {},
   "outputs": [
    {
     "name": "stdout",
     "output_type": "stream",
     "text": [
      "Original array:\n",
      "[[ 1  2  3  4]\n",
      " [ 2  4  5  6]\n",
      " [10 20 39  3]]\n",
      "Iterating over the array:\n",
      "1 2 3 4 2 4 5 6 10 20 39 3 "
     ]
    }
   ],
   "source": [
    "a = np.array([[1,2,3,4],[2,4,5,6],[10,20,39,3]]) \n",
    "\n",
    "print(\"Original array:\")  \n",
    "print(a)\n",
    "\n",
    "print(\"Iterating over the array:\")  \n",
    "for x in np.nditer(a):  \n",
    "    print(x,end=' ')  "
   ]
  },
  {
   "cell_type": "code",
   "execution_count": 68,
   "id": "08e5e914",
   "metadata": {},
   "outputs": [
    {
     "name": "stdout",
     "output_type": "stream",
     "text": [
      "\n",
      " Original array:\n",
      "\n",
      "[[ 1  2  3  4]\n",
      " [ 2  4  5  6]\n",
      " [10 20 39  3]]\n",
      "\n",
      "Printing the transpose of the array:\n",
      "\n",
      "[[ 1  2 10]\n",
      " [ 2  4 20]\n",
      " [ 3  5 39]\n",
      " [ 4  6  3]]\n",
      "\n",
      "Iterating over the transposed array\n",
      "\n",
      "1 2 3 4 2 4 5 6 10 20 39 3 \n",
      "Iterating over the C-style array:\n",
      "\n",
      "1 2 10 2 4 20 3 5 39 4 6 3 [[ 1  2 10]\n",
      " [ 2  4 20]\n",
      " [ 3  5 39]\n",
      " [ 4  6  3]]\n",
      "Iterating over the F-style array: \n",
      "\n",
      "1 2 3 4 2 4 5 6 10 20 39 3 "
     ]
    }
   ],
   "source": [
    "#Let's see an example of how the numpy Iterator treats the specific orders (F or C).\n",
    "import numpy as np  \n",
    "  \n",
    "a = np.array([[1,2,3,4],[2,4,5,6],[10,20,39,3]])  \n",
    "  \n",
    "print(\"\\n Original array:\\n\")  \n",
    "  \n",
    "print(a)  \n",
    "  \n",
    "print(\"\\nPrinting the transpose of the array:\\n\")  \n",
    "at = a.T  \n",
    "  \n",
    "print(at)  \n",
    "  \n",
    "print(\"\\nIterating over the transposed array\\n\")  \n",
    "  \n",
    "for x in np.nditer(at):  \n",
    "    print(x, end= ' ')  \n",
    "  \n",
    " \n",
    "print(\"\\nIterating over the C-style array:\\n\")  \n",
    "c = at.copy(order = 'C')  \n",
    "for x in np.nditer(c):  \n",
    "    print(x,end=' ')  \n",
    "      \n",
    "d = at.copy(order = 'F')  \n",
    "  \n",
    "print(d)  \n",
    "print(\"Iterating over the F-style array: \\n\")  \n",
    "for x in np.nditer(d):  \n",
    "    print(x,end=' ')  "
   ]
  },
  {
   "cell_type": "code",
   "execution_count": 69,
   "id": "3587e05e",
   "metadata": {},
   "outputs": [
    {
     "name": "stdout",
     "output_type": "stream",
     "text": [
      "\n",
      "Printing the array:\n",
      "\n",
      "[[ 1  2  3  4]\n",
      " [ 2  4  5  6]\n",
      " [10 20 39  3]]\n",
      "\n",
      "Printing the transpose of the array:\n",
      "\n",
      "[[ 1  2 10]\n",
      " [ 2  4 20]\n",
      " [ 3  5 39]\n",
      " [ 4  6  3]]\n",
      "\n",
      "Iterating over the transposed array\n",
      "\n",
      "1 2 3 4 2 4 5 6 10 20 39 3 \n",
      "Iterating over the C-style array:\n",
      "\n",
      "1 2 10 2 4 20 3 5 39 4 6 3 "
     ]
    }
   ],
   "source": [
    "# We can mention the order 'C' or 'F' while defining the Iterator object itself. let's Consider the an example. \n",
    "  \n",
    "a = np.array([[1,2,3,4],[2,4,5,6],[10,20,39,3]])  \n",
    "  \n",
    "print(\"\\nPrinting the array:\\n\")  \n",
    "  \n",
    "print(a)  \n",
    "  \n",
    "print(\"\\nPrinting the transpose of the array:\\n\")  \n",
    "at = a.T  \n",
    "  \n",
    "print(at)  \n",
    "  \n",
    "print(\"\\nIterating over the transposed array\\n\")  \n",
    "  \n",
    "for x in np.nditer(at):  \n",
    "    print(x, end= ' ')  \n",
    "\n",
    "print(\"\\nIterating over the C-style array:\\n\")  \n",
    "for x in np.nditer(at, order = 'C'):  \n",
    "    print(x,end=' ')  "
   ]
  },
  {
   "cell_type": "markdown",
   "id": "8cacdb8a",
   "metadata": {},
   "source": [
    "## Mathematical Functions"
   ]
  },
  {
   "cell_type": "code",
   "execution_count": 71,
   "id": "825d0852",
   "metadata": {},
   "outputs": [
    {
     "name": "stdout",
     "output_type": "stream",
     "text": [
      "\n",
      "The sin value of the angles [0.00000000e+00 5.00000000e-01 8.66025404e-01 1.00000000e+00\n",
      " 8.66025404e-01 5.00000000e-01 1.22464680e-16]\n",
      "\n",
      "The cosine value of the angles [ 1.00000000e+00  8.66025404e-01  5.00000000e-01  6.12323400e-17\n",
      " -5.00000000e-01 -8.66025404e-01 -1.00000000e+00]\n",
      "\n",
      "The tangent value of the angles [ 0.00000000e+00  5.77350269e-01  1.73205081e+00  1.63312394e+16\n",
      " -1.73205081e+00 -5.77350269e-01 -1.22464680e-16]\n"
     ]
    }
   ],
   "source": [
    "# Trigonometry\n",
    "arr = np.array([0, 30, 60, 90, 120, 150, 180])  \n",
    "\n",
    "print(\"\\nThe sin value of the angles\",end = \" \")  \n",
    "print(np.sin(arr * np.pi/180)) \n",
    "\n",
    "print(\"\\nThe cosine value of the angles\",end = \" \")  \n",
    "print(np.cos(arr * np.pi/180))\n",
    "\n",
    "print(\"\\nThe tangent value of the angles\",end = \" \")  \n",
    "print(np.tan(arr * np.pi/180))  "
   ]
  },
  {
   "cell_type": "code",
   "execution_count": 72,
   "id": "d51ea1f0",
   "metadata": {},
   "outputs": [
    {
     "name": "stdout",
     "output_type": "stream",
     "text": [
      "printing the original array values: [ 12.202   90.2312 123.02    23.202 ]\n",
      "Array values rounded off to 2 decimal position [ 12.2   90.23 123.02  23.2 ]\n",
      "Array values rounded off to -1 decimal position [ 10.  90. 120.  20.]\n"
     ]
    }
   ],
   "source": [
    "# Rounding\n",
    "\n",
    "arr = np.array([12.202, 90.23120, 123.020, 23.202])  \n",
    "\n",
    "print(\"printing the original array values:\",end = \" \")  \n",
    "print(arr)  \n",
    "\n",
    "print(\"Array values rounded off to 2 decimal position\",np.around(arr, 2))  \n",
    "\n",
    "print(\"Array values rounded off to -1 decimal position\",np.around(arr, -1))"
   ]
  },
  {
   "cell_type": "code",
   "execution_count": 73,
   "id": "38b3b822",
   "metadata": {},
   "outputs": [
    {
     "name": "stdout",
     "output_type": "stream",
     "text": [
      "[ 12.  90. 123.  23.]\n"
     ]
    }
   ],
   "source": [
    "#floor\n",
    "arr = np.array([12.202, 90.23120, 123.020, 23.202])  \n",
    "print(np.floor(arr))  "
   ]
  },
  {
   "cell_type": "code",
   "execution_count": 74,
   "id": "f1a4417b",
   "metadata": {},
   "outputs": [
    {
     "name": "stdout",
     "output_type": "stream",
     "text": [
      "[ 13.  91. 124.  24.]\n"
     ]
    }
   ],
   "source": [
    "#Ceil\n",
    "arr = np.array([12.202, 90.23120, 123.020, 23.202])  \n",
    "print(np.ceil(arr)) "
   ]
  },
  {
   "cell_type": "markdown",
   "id": "0ccc1247",
   "metadata": {},
   "source": [
    "## Statistical functions"
   ]
  },
  {
   "cell_type": "code",
   "execution_count": 75,
   "id": "ce9217f0",
   "metadata": {},
   "outputs": [
    {
     "name": "stdout",
     "output_type": "stream",
     "text": [
      "The original array:\n",
      "\n",
      "[[ 2 10 20]\n",
      " [80 43 31]\n",
      " [22 43 10]]\n",
      "\n",
      "The minimum element among the array: 2\n",
      "The maximum element among the array: 80\n",
      "\n",
      "The minimum element among the rows of array [ 2 10 10]\n",
      "The maximum element among the rows of array [80 43 31]\n",
      "\n",
      "The minimum element among the columns of array [ 2 31 10]\n",
      "The maximum element among the columns of array [20 80 43]\n"
     ]
    }
   ],
   "source": [
    "a = np.array([[2,10,20],[80,43,31],[22,43,10]])  \n",
    "  \n",
    "print(\"The original array:\\n\")  \n",
    "print(a)  \n",
    "\n",
    "# Maximum and Minimum  \n",
    "print(\"\\nThe minimum element among the array:\",np.amin(a))  \n",
    "print(\"The maximum element among the array:\",np.amax(a))  \n",
    "  \n",
    "# Maximum and Minimum along axis 0 \n",
    "print(\"\\nThe minimum element among the rows of array\",np.amin(a,0))  \n",
    "print(\"The maximum element among the rows of array\",np.amax(a,0))  \n",
    "  \n",
    "# Maximum and Minimum along axis 1\n",
    "print(\"\\nThe minimum element among the columns of array\",np.amin(a,1))  \n",
    "print(\"The maximum element among the columns of array\",np.amax(a,1)) "
   ]
  },
  {
   "cell_type": "code",
   "execution_count": 76,
   "id": "97a55e01",
   "metadata": {},
   "outputs": [
    {
     "name": "stdout",
     "output_type": "stream",
     "text": [
      "Original array:\n",
      " [[ 2 10 20]\n",
      " [80 43 31]\n",
      " [22 43 10]]\n",
      "\n",
      "ptp value along axis 1: [18 49 33]\n",
      "ptp value along axis 0: [78 33 21]\n"
     ]
    }
   ],
   "source": [
    "# peak to peak function\n",
    "a = np.array([[2,10,20],[80,43,31],[22,43,10]])  \n",
    "  \n",
    "print(\"Original array:\\n\",a)  \n",
    "  \n",
    "print(\"\\nptp value along axis 1:\",np.ptp(a,1))  \n",
    "  \n",
    "print(\"ptp value along axis 0:\",np.ptp(a,0)) "
   ]
  },
  {
   "cell_type": "code",
   "execution_count": 77,
   "id": "75fdf478",
   "metadata": {},
   "outputs": [
    {
     "name": "stdout",
     "output_type": "stream",
     "text": [
      "Array:\n",
      " [[ 2 10 20]\n",
      " [80 43 31]\n",
      " [22 43 10]]\n",
      "\n",
      "Percentile along axis 0 [ 6.  16.6 12. ]\n",
      "Percentile along axis 1 [ 3.6 33.4 12.4]\n"
     ]
    }
   ],
   "source": [
    "#percentile\n",
    "\n",
    "a = np.array([[2,10,20],[80,43,31],[22,43,10]])  \n",
    "  \n",
    "print(\"Array:\\n\",a)  \n",
    "  \n",
    "print(\"\\nPercentile along axis 0\",np.percentile(a, 10,0))  \n",
    "  \n",
    "print(\"Percentile along axis 1\",np.percentile(a, 10, 1))"
   ]
  },
  {
   "cell_type": "code",
   "execution_count": 78,
   "id": "2c152948",
   "metadata": {},
   "outputs": [
    {
     "name": "stdout",
     "output_type": "stream",
     "text": [
      "Array:\n",
      " [[1 2 3]\n",
      " [4 5 6]\n",
      " [7 8 9]]\n",
      "\n",
      "Median of array along axis 0: [4. 5. 6.]\n",
      "Mean of array along axis 0: [4. 5. 6.]\n",
      "Average of array along axis 1: [2. 5. 8.]\n"
     ]
    }
   ],
   "source": [
    "# Calculating median, mean, and average of array items\n",
    "  \n",
    "a = np.array([[1,2,3],[4,5,6],[7,8,9]])  \n",
    "  \n",
    "print(\"Array:\\n\",a)  \n",
    "  \n",
    "print(\"\\nMedian of array along axis 0:\",np.median(a,0))  \n",
    "\n",
    "print(\"Mean of array along axis 0:\",np.mean(a,0))  \n",
    "\n",
    "print(\"Average of array along axis 1:\",np.average(a,1))  "
   ]
  },
  {
   "cell_type": "markdown",
   "id": "99d360ac",
   "metadata": {},
   "source": [
    "## NumPy Sorting and Searching"
   ]
  },
  {
   "cell_type": "code",
   "execution_count": 79,
   "id": "ed6b5b44",
   "metadata": {},
   "outputs": [
    {
     "name": "stdout",
     "output_type": "stream",
     "text": [
      "Sorting along the columns:\n",
      "[[ 2  3 10]\n",
      " [ 4  5  6]\n",
      " [ 7  8  9]]\n",
      "Sorting along the rows:\n",
      "[[ 4  2  3]\n",
      " [ 7  5  6]\n",
      " [10  8  9]]\n",
      "Sorting data ordered by name\n",
      "[(b'John', 251) (b'Mukesh', 200)]\n"
     ]
    }
   ],
   "source": [
    "a = np.array([[10,2,3],[4,5,6],[7,8,9]])  \n",
    "  \n",
    "print(\"Sorting along the columns:\")  \n",
    "print(np.sort(a))  \n",
    "  \n",
    "print(\"Sorting along the rows:\")  \n",
    "print(np.sort(a, 0))  \n",
    "  \n",
    "data_type = np.dtype([('name', 'S10'),('marks',int)])  \n",
    "  \n",
    "arr = np.array([('Mukesh',200),('John',251)],dtype = data_type)  \n",
    "  \n",
    "print(\"Sorting data ordered by name\")  \n",
    "  \n",
    "print(np.sort(arr,order = 'name'))  "
   ]
  },
  {
   "cell_type": "code",
   "execution_count": 80,
   "id": "37343bdf",
   "metadata": {},
   "outputs": [
    {
     "name": "stdout",
     "output_type": "stream",
     "text": [
      "Original array:\n",
      " [90 29 89 12]\n",
      "Printing indices of sorted data\n",
      " [3 1 2 0]\n",
      "printing sorted array\n",
      "12 29 89 90 "
     ]
    }
   ],
   "source": [
    "#argsort\n",
    "a = np.array([90, 29, 89, 12])  \n",
    "  \n",
    "print(\"Original array:\\n\",a)  \n",
    "  \n",
    "sort_ind = np.argsort(a)  \n",
    "  \n",
    "print(\"Printing indices of sorted data\\n\",sort_ind)  \n",
    "  \n",
    "sort_a = a[sort_ind]  \n",
    "  \n",
    "print(\"printing sorted array\")  \n",
    "  \n",
    "for i in sort_ind:  \n",
    "    print(a[i],end = \" \")  "
   ]
  },
  {
   "cell_type": "code",
   "execution_count": 81,
   "id": "26c3dfbb",
   "metadata": {},
   "outputs": [
    {
     "name": "stdout",
     "output_type": "stream",
     "text": [
      "printing indices of sorted data\n",
      "[0 3 1 4 2]\n",
      "using the indices to sort the array\n",
      "a 12\n",
      "d 12\n",
      "b 90\n",
      "e 211\n",
      "c 380\n"
     ]
    }
   ],
   "source": [
    "# lex sort -This function is used to sort the array using the sequence of keys indirectly. \n",
    "# This function performs similarly to the numpy.argsort() which returns the array of indices of sorted data.\n",
    "a = np.array(['a','b','c','d','e'])  \n",
    "  \n",
    "b = np.array([12, 90, 380, 12, 211])  \n",
    "  \n",
    "ind = np.lexsort((a,b))  \n",
    "  \n",
    "print(\"printing indices of sorted data\")  \n",
    "  \n",
    "print(ind)  \n",
    "  \n",
    "print(\"using the indices to sort the array\")  \n",
    "  \n",
    "for i in ind:  \n",
    "    print(a[i],b[i])  "
   ]
  },
  {
   "cell_type": "code",
   "execution_count": 82,
   "id": "dc1101c4",
   "metadata": {},
   "outputs": [
    {
     "name": "stdout",
     "output_type": "stream",
     "text": [
      "printing original array [ 12  90 380  12 211]\n",
      "printing location of the non-zero elements\n",
      "(array([0, 1, 2, 3, 4], dtype=int64),)\n"
     ]
    }
   ],
   "source": [
    "b = np.array([12, 90, 380, 12, 211])  \n",
    "  \n",
    "print(\"printing original array\",b)  \n",
    "  \n",
    "print(\"printing location of the non-zero elements\")  \n",
    "  \n",
    "print(b.nonzero()) "
   ]
  },
  {
   "cell_type": "code",
   "execution_count": 83,
   "id": "37affc36",
   "metadata": {},
   "outputs": [
    {
     "name": "stdout",
     "output_type": "stream",
     "text": [
      "(array([1, 2, 4], dtype=int64),)\n",
      "(array([0, 1, 1], dtype=int64), array([1, 0, 1], dtype=int64))\n"
     ]
    }
   ],
   "source": [
    "b = np.array([12, 90, 380, 12, 211])  \n",
    "  \n",
    "print(np.where(b>12))  \n",
    "  \n",
    "c = np.array([[20, 24],[21, 23]])  \n",
    "  \n",
    "print(np.where(c>20))"
   ]
  },
  {
   "cell_type": "markdown",
   "id": "cc9e08ea",
   "metadata": {},
   "source": [
    "## Linear Algebra"
   ]
  },
  {
   "cell_type": "code",
   "execution_count": 84,
   "id": "7d989447",
   "metadata": {},
   "outputs": [
    {
     "name": "stdout",
     "output_type": "stream",
     "text": [
      "[[3400 6200]\n",
      " [ 374  712]]\n"
     ]
    }
   ],
   "source": [
    "a = np.array([[100,200],[23,12]])  \n",
    "b = np.array([[10,20],[12,21]])  \n",
    "dot = np.dot(a,b)  \n",
    "print(dot)  "
   ]
  },
  {
   "cell_type": "code",
   "execution_count": 85,
   "id": "41132ef6",
   "metadata": {},
   "outputs": [
    {
     "name": "stdout",
     "output_type": "stream",
     "text": [
      "5528\n"
     ]
    }
   ],
   "source": [
    "a = np.array([[100,200],[23,12]])  \n",
    "b = np.array([[10,20],[12,21]])  \n",
    "vdot = np.vdot(a,b)  \n",
    "print(vdot)"
   ]
  },
  {
   "cell_type": "code",
   "execution_count": 86,
   "id": "e3cd8499",
   "metadata": {},
   "outputs": [
    {
     "name": "stdout",
     "output_type": "stream",
     "text": [
      "130\n"
     ]
    }
   ],
   "source": [
    "#np.inner\n",
    "#This function returns the sum of the product of inner elements of the one-dimensional array.\n",
    "# For n-dimensional arrays, it returns the sum of the product of elements over the last axis\n",
    "a = np.array([1,2,3,4,5,6])  \n",
    "b = np.array([23,23,12,2,1,2])  \n",
    "inner = np.inner(a,b)  \n",
    "print(inner) "
   ]
  },
  {
   "cell_type": "code",
   "execution_count": 87,
   "id": "52aedbf3",
   "metadata": {},
   "outputs": [
    {
     "name": "stdout",
     "output_type": "stream",
     "text": [
      "[[ 48  49  43]\n",
      " [144 145 112]\n",
      " [240 241 181]]\n"
     ]
    }
   ],
   "source": [
    "# Numpy.matmul() function\n",
    "\n",
    "# It is used to return the multiplication of the two matrices. \n",
    "# It gives an error if the shape of both matrices is not aligned for multiplication. Consider the following example.\n",
    "\n",
    "a = np.array([[1,2,3],[4,5,6],[7,8,9]])  \n",
    "b = np.array([[23,23,12],[2,1,2],[7,8,9]])  \n",
    "mul = np.matmul(a,b)  \n",
    "print(mul)  "
   ]
  },
  {
   "cell_type": "code",
   "execution_count": 88,
   "id": "ec967f7f",
   "metadata": {},
   "outputs": [
    {
     "name": "stdout",
     "output_type": "stream",
     "text": [
      "-2.0000000000000004\n"
     ]
    }
   ],
   "source": [
    "#determinant\n",
    "a = np.array([[1,2],[3,4]])  \n",
    "print(np.linalg.det(a)) "
   ]
  },
  {
   "cell_type": "code",
   "execution_count": 90,
   "id": "66eef643",
   "metadata": {
    "scrolled": true
   },
   "outputs": [
    {
     "name": "stdout",
     "output_type": "stream",
     "text": [
      "Original array:\n",
      " [[1 2]\n",
      " [3 4]]\n",
      "Inverse:\n",
      " [[-2.   1. ]\n",
      " [ 1.5 -0.5]]\n"
     ]
    }
   ],
   "source": [
    "#multiplicative inverse\n",
    "a = np.array([[1,2],[3,4]])  \n",
    "print(\"Original array:\\n\",a)  \n",
    "b = np.linalg.inv(a)  \n",
    "print(\"Inverse:\\n\",b) "
   ]
  },
  {
   "cell_type": "markdown",
   "id": "09767562",
   "metadata": {},
   "source": [
    "## NumPy - Copies & Views"
   ]
  },
  {
   "cell_type": "code",
   "execution_count": 1,
   "id": "123f5c80",
   "metadata": {},
   "outputs": [
    {
     "name": "stdout",
     "output_type": "stream",
     "text": [
      "Our array is:\n",
      "[0 1 2 3 4 5]\n",
      "Applying id() function:\n",
      "2476716678864\n",
      "a is assigned to b:\n",
      "[0 1 2 3 4 5]\n",
      "b has same id():\n",
      "2476716678864\n",
      "Change shape of b:\n",
      "[[0 1]\n",
      " [2 3]\n",
      " [4 5]]\n",
      "Shape of a also gets changed:\n",
      "[[0 1]\n",
      " [2 3]\n",
      " [4 5]]\n"
     ]
    }
   ],
   "source": [
    "import numpy as np \n",
    "a = np.arange(6) \n",
    "\n",
    "print('Our array is:') \n",
    "print(a)  \n",
    "\n",
    "print('Applying id() function:')\n",
    "print(id(a))  \n",
    "\n",
    "print('a is assigned to b:')\n",
    "b = a \n",
    "print(b)  \n",
    "\n",
    "print('b has same id():') \n",
    "print(id(b))\n",
    "\n",
    "print('Change shape of b:') \n",
    "b.shape = 3,2 \n",
    "print(b)  \n",
    "\n",
    "print('Shape of a also gets changed:') \n",
    "print(a)"
   ]
  },
  {
   "cell_type": "code",
   "execution_count": 2,
   "id": "19a9f501",
   "metadata": {},
   "outputs": [
    {
     "name": "stdout",
     "output_type": "stream",
     "text": [
      "Array a:\n",
      "[[0 1]\n",
      " [2 3]\n",
      " [4 5]]\n",
      "Create view of a:\n",
      "[[0 1]\n",
      " [2 3]\n",
      " [4 5]]\n",
      "id() for both the arrays are different:\n",
      "id() of a:\n",
      "2476721763216\n",
      "id() of b:\n",
      "2476721763312\n",
      "Shape of b:\n",
      "[[0 1 2]\n",
      " [3 4 5]]\n",
      "Shape of a:\n",
      "[[0 1]\n",
      " [2 3]\n",
      " [4 5]]\n"
     ]
    }
   ],
   "source": [
    "#view or shallow copy\n",
    "a = np.arange(6).reshape(3,2) \n",
    "\n",
    "print('Array a:') \n",
    "print(a)  \n",
    "\n",
    "print('Create view of a:') \n",
    "b = a.view() \n",
    "print(b) \n",
    "\n",
    "print('id() for both the arrays are different:') \n",
    "print('id() of a:')\n",
    "print(id(a))\n",
    "print('id() of b:') \n",
    "print(id(b))  \n",
    "\n",
    "# Change the shape of b. It does not change the shape of a \n",
    "b.shape = 2,3 \n",
    "\n",
    "print('Shape of b:') \n",
    "print(b)  \n",
    "\n",
    "print('Shape of a:')\n",
    "print(a)"
   ]
  },
  {
   "cell_type": "code",
   "execution_count": 3,
   "id": "d0897435",
   "metadata": {},
   "outputs": [
    {
     "name": "stdout",
     "output_type": "stream",
     "text": [
      "Array a:\n",
      "[[0 1]\n",
      " [2 3]\n",
      " [4 5]]\n",
      "Create view of a:\n",
      "[[0 1]\n",
      " [2 3]\n",
      " [4 5]]\n",
      "id() for both the arrays are different:\n",
      "id() of a:\n",
      "2476721763984\n",
      "id() of b:\n",
      "2476721763216\n",
      "Shape of b:\n",
      "[[0 1 2]\n",
      " [3 4 5]]\n",
      "Shape of a:\n",
      "[[0 1]\n",
      " [2 3]\n",
      " [4 5]]\n"
     ]
    }
   ],
   "source": [
    "a = np.arange(6).reshape(3,2) \n",
    "\n",
    "print('Array a:')\n",
    "print(a)\n",
    "\n",
    "print('Create view of a:') \n",
    "b = a.view() \n",
    "print(b)\n",
    "\n",
    "print('id() for both the arrays are different:')\n",
    "print('id() of a:')\n",
    "print(id(a))\n",
    "print('id() of b:') \n",
    "print(id(b))  \n",
    "\n",
    "# Change the shape of b. It does not change the shape of a \n",
    "b.shape = 2,3 \n",
    "\n",
    "print('Shape of b:') \n",
    "print(b)\n",
    "\n",
    "print('Shape of a:')\n",
    "print(a)"
   ]
  },
  {
   "cell_type": "code",
   "execution_count": 4,
   "id": "895f7e3f",
   "metadata": {},
   "outputs": [
    {
     "name": "stdout",
     "output_type": "stream",
     "text": [
      "Our array is:\n",
      "[[10 10]\n",
      " [ 2  3]\n",
      " [ 4  5]]\n",
      "Create a slice:\n",
      "[[10 10]\n",
      " [ 2  3]\n",
      " [ 4  5]]\n"
     ]
    }
   ],
   "source": [
    "a = np.array([[10,10], [2,3], [4,5]]) \n",
    "\n",
    "print('Our array is:') \n",
    "print(a)  \n",
    "\n",
    "print('Create a slice:') \n",
    "s = a[:, :2] \n",
    "print(s)"
   ]
  },
  {
   "cell_type": "code",
   "execution_count": 5,
   "id": "2b11bb33",
   "metadata": {},
   "outputs": [
    {
     "name": "stdout",
     "output_type": "stream",
     "text": [
      "Array a is:\n",
      "[[10 10]\n",
      " [ 2  3]\n",
      " [ 4  5]]\n",
      "Create a deep copy of a:\n",
      "Array b is:\n",
      "[[10 10]\n",
      " [ 2  3]\n",
      " [ 4  5]]\n",
      "Can we write b is a\n",
      "False\n",
      "Change the contents of b:\n",
      "Modified array b:\n",
      "[[100  10]\n",
      " [  2   3]\n",
      " [  4   5]]\n",
      "a remains unchanged:\n",
      "[[10 10]\n",
      " [ 2  3]\n",
      " [ 4  5]]\n"
     ]
    }
   ],
   "source": [
    "# deep copy\n",
    "\n",
    "a = np.array([[10,10], [2,3], [4,5]]) \n",
    "\n",
    "print('Array a is:') \n",
    "print(a)\n",
    "\n",
    "print('Create a deep copy of a:') \n",
    "b = a.copy() \n",
    "print('Array b is:') \n",
    "print(b) \n",
    "\n",
    "#b does not share any memory of a \n",
    "print('Can we write b is a')\n",
    "print(b is a)  \n",
    "\n",
    "print('Change the contents of b:') \n",
    "b[0,0] = 100 \n",
    "\n",
    "print('Modified array b:')\n",
    "print(b)\n",
    "\n",
    "print('a remains unchanged:') \n",
    "print(a)"
   ]
  },
  {
   "cell_type": "code",
   "execution_count": 6,
   "id": "64ead3ab",
   "metadata": {},
   "outputs": [
    {
     "name": "stdout",
     "output_type": "stream",
     "text": [
      "[[ 1  2]\n",
      " [ 3  4]\n",
      " [12 30]]\n"
     ]
    }
   ],
   "source": [
    "#Concatenate function\n",
    "\n",
    "x=np.array([[1,2],[3,4]])  \n",
    "y=np.array([[12,30]])  \n",
    "\n",
    "\n",
    "z=np.concatenate((x,y))  \n",
    "print(z)"
   ]
  },
  {
   "cell_type": "code",
   "execution_count": 7,
   "id": "e1beb833",
   "metadata": {},
   "outputs": [
    {
     "name": "stdout",
     "output_type": "stream",
     "text": [
      "[[ 1  2 12]\n",
      " [ 3  4 30]]\n"
     ]
    }
   ],
   "source": [
    "x=np.array([[1,2],[3,4]])  \n",
    "y=np.array([[12,30]])  \n",
    "\n",
    "z=np.concatenate((x,y.T), axis=1)  \n",
    "print(z)  \n",
    "\n",
    "# In this example, the '.T' used to change the rows into columns and columns into rows."
   ]
  },
  {
   "cell_type": "code",
   "execution_count": 8,
   "id": "19e40335",
   "metadata": {},
   "outputs": [
    {
     "name": "stdout",
     "output_type": "stream",
     "text": [
      "[10 20 30 40 50 60 70 80 90 11 21 31 42 52 62 73 83 93]\n"
     ]
    }
   ],
   "source": [
    "\n",
    "a=np.array([[10, 20, 30], [40, 50, 60], [70, 80, 90]])  \n",
    "b=np.array([[11, 21, 31], [42, 52, 62], [73, 83, 93]])  \n",
    "\n",
    "c=np.append(a,b)  \n",
    "print(c)"
   ]
  },
  {
   "cell_type": "code",
   "execution_count": 9,
   "id": "b82bbcb7",
   "metadata": {},
   "outputs": [
    {
     "name": "stdout",
     "output_type": "stream",
     "text": [
      "[[10 20 30]\n",
      " [40 50 60]\n",
      " [70 80 90]\n",
      " [11 21 31]\n",
      " [42 52 62]\n",
      " [73 83 93]]\n"
     ]
    }
   ],
   "source": [
    "a=np.array([[10, 20, 30], [40, 50, 60], [70, 80, 90]])  \n",
    "b=np.array([[11, 21, 31], [42, 52, 62], [73, 83, 93]])  \n",
    "\n",
    "c=np.append(a,b,axis=0)  \n",
    "print(c)"
   ]
  },
  {
   "cell_type": "code",
   "execution_count": 10,
   "id": "bda0aada",
   "metadata": {},
   "outputs": [
    {
     "name": "stdout",
     "output_type": "stream",
     "text": [
      "[[10 20 30 11 21 31]\n",
      " [40 50 60 42 52 62]\n",
      " [70 80 90 73 83 93]]\n"
     ]
    }
   ],
   "source": [
    "a=np.array([[10, 20, 30], [40, 50, 60], [70, 80, 90]])  \n",
    "b=np.array([[11, 21, 31], [42, 52, 62], [73, 83, 93]])  \n",
    "\n",
    "c=np.append(a,b,axis=1)  \n",
    "print(c)  "
   ]
  },
  {
   "cell_type": "code",
   "execution_count": null,
   "id": "7eee4164",
   "metadata": {},
   "outputs": [],
   "source": []
  }
 ],
 "metadata": {
  "kernelspec": {
   "display_name": "Python 3",
   "language": "python",
   "name": "python3"
  },
  "language_info": {
   "codemirror_mode": {
    "name": "ipython",
    "version": 3
   },
   "file_extension": ".py",
   "mimetype": "text/x-python",
   "name": "python",
   "nbconvert_exporter": "python",
   "pygments_lexer": "ipython3",
   "version": "3.8.8"
  }
 },
 "nbformat": 4,
 "nbformat_minor": 5
}
